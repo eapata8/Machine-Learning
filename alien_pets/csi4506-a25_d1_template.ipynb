{
  "cells": [
    {
      "cell_type": "markdown",
      "metadata": {},
      "source": [
        "**CSI 4506 Introduction à l’intelligence artificielle** <br/>\n",
        "*Devoir 1 : Santé des animaux de compagnie extraterrestres, préparation des données*\n",
        "\n",
        "# Identification\n",
        "\n",
        "Nom : <br/>\n",
        "Numéro d’étudiant :\n",
        "\n",
        "## 1. Données\n",
        "\n",
        "Le jeu de données pour le Devoir 1 se trouve ici :\n",
        "\n",
        "- [github.com/turcotte/csi4106-f25/tree/main/assignments-data/a1](https://github.com/turcotte/csi4106-f25/tree/main/assignments-data/a1)\n",
        "\n",
        "Dans votre notebook, vous pouvez accéder et lire les données directement depuis ce dépôt GitHub.\n",
        "\n",
        "- [alien_pet_health.csv](https://raw.githubusercontent.com/turcotte/csi4106-f25/main/assignments-data/a1/alien_pet_health.csv)\n",
        "\n",
        "## 2. Tâches\n",
        "\n",
        "1. **Charger le jeu de données**\n",
        "\n",
        "- Lire le fichier CSV depuis l'URL GitHub fournie.\n",
        "- Afficher la dimension des données (*shape*), ainsi que les cinq premières lignes."
      ]
    },
    {
      "cell_type": "code",
      "execution_count": null,
      "metadata": {},
      "outputs": [],
      "source": [
        "# Cellule de code"
      ]
    },
    {
      "cell_type": "markdown",
      "metadata": {},
      "source": [
        "2. **Valeurs manquantes**\n",
        "\n",
        "- Examiner le jeu de données pour identifier et évaluer les valeurs manquantes dans divers attributs. Les valeurs manquantes peuvent être représentées par des symboles tels que ‘?’, des chaînes vides ou d'autres substituts.\n",
        "- Lister l'attribut ou les attributs avec des valeurs manquantes.\n",
        "- Décrire la méthodologie utilisée pour cette analyse, et fournir le code correspondant, le cas échéant.\n",
        "- Convertir les jetons manquants (par exemple, chaînes vides, `n/a`, `?`) en `NaN`.\n",
        "- Forcer les colonnes numériques ou analogues à être numériques (erreurs→`NaN`).\n",
        "\n",
        "Après cette étape, chaque attribut sera peuplé de valeurs spécifiques ou de `NaN`."
      ]
    },
    {
      "cell_type": "code",
      "execution_count": null,
      "metadata": {},
      "outputs": [],
      "source": [
        "# Cellule de code"
      ]
    },
    {
      "cell_type": "markdown",
      "metadata": {},
      "source": [
        "3. **Attributs catégoriels**\n",
        "\n",
        "- Analyser le jeu de données pour détecter d'éventuels problèmes avec les attributs catégoriels. Par exemple, vous pourriez rencontrer des cas où la même catégorie est représentée de manière incohérente en utilisant à la fois des lettres minuscules et majuscules, ou où des espaces superflus sont inclus.\n",
        "- Décrire la méthodologie utilisée pour cette analyse, et fournir le code correspondant, le cas échéant.\n",
        "- Normaliser les valeurs des attributs catégoriels."
      ]
    },
    {
      "cell_type": "code",
      "execution_count": null,
      "metadata": {},
      "outputs": [],
      "source": [
        "# Cellule de code"
      ]
    },
    {
      "cell_type": "markdown",
      "metadata": {},
      "source": [
        "4. **Supprimer les attributs non informatifs**\n",
        "\n",
        "- Éliminer les types d’attributs suivants du jeu de données, le cas échéant :\n",
        "  - Identifiants uniques (ID)\n",
        "  - Caractéristiques constantes et quasi-constantes\n",
        "  - Quasi-identifiants à haute cardinalité\n",
        "  - Duplicatas linéaires mis à l'échelle\n",
        "- Fournir la liste des attributs spécifiques supprimés.\n",
        "- Pour chaque attribut listé, offrir une brève justification de son exclusion."
      ]
    },
    {
      "cell_type": "code",
      "execution_count": null,
      "metadata": {},
      "outputs": [],
      "source": [
        "# Cellule de code"
      ]
    },
    {
      "cell_type": "markdown",
      "metadata": {},
      "source": [
        "5. **Caractériser les distributions**\n",
        "\n",
        "- Pour chaque attribut numérique, fournir une caractérisation détaillée de la distribution de ses valeurs.\n",
        "- Évaluer si la distribution présente une normalité ou une asymétrie.\n",
        "- Déterminer si elle est unimodale ou multimodale.\n",
        "- Identifier la présence de tout outlier.\n",
        "- Justifier vos réponses.\n",
        "- Créer des histogrammes pour soutenir visuellement vos conclusions."
      ]
    },
    {
      "cell_type": "code",
      "execution_count": null,
      "metadata": {},
      "outputs": [],
      "source": [
        "# Cellule de code"
      ]
    },
    {
      "cell_type": "markdown",
      "metadata": {},
      "source": [
        "6. **Équilibre des classes**\n",
        "\n",
        "- Rapporter les proportions cibles ; inclure un simple diagramme à barres."
      ]
    },
    {
      "cell_type": "code",
      "execution_count": null,
      "metadata": {},
      "outputs": [],
      "source": [
        "# Cellule de code"
      ]
    },
    {
      "cell_type": "markdown",
      "metadata": {},
      "source": [
        "7. **Sauvegarder les données nettoyées**\n",
        "\n",
        "- Conserver les attributs principaux plus `health_outcome`.\n",
        "- Assurer les types de données corrects (numérique/ordinal/binaire).\n",
        "- Sauvegarder sous `alien_pet_health_cleaned.csv`."
      ]
    },
    {
      "cell_type": "code",
      "execution_count": null,
      "metadata": {},
      "outputs": [],
      "source": [
        "# Cellule de code"
      ]
    },
    {
      "cell_type": "markdown",
      "metadata": {},
      "source": [
        "# Références\n",
        "\n",
        "# Ressources\n",
        "\n",
        "Si vous utilisez l'assistance par IA, il est essentiel de documenter minutieusement toutes les interactions. Votre rapport doit spécifier les outils et leurs versions, accompagnés d'une transcription complète de ces interactions. La plupart des plateformes d'IA enregistrent automatiquement les conversations, il est donc conseillé de démarrer une nouvelle conversation spécifiquement pour le devoir et d'utiliser systématiquement ce fil tout au long de votre travail. Assurez-vous que cette conversation reste exclusivement centrée sur le devoir. Incluez la transcription de cette conversation."
      ]
    }
  ],
  "metadata": {
    "kernelspec": {
      "display_name": "Python 3 (ipykernel)",
      "language": "python",
      "name": "python3",
      "path": "/Users/turcotte/opt/micromamba/envs/ai/share/jupyter/kernels/python3"
    }
  },
  "nbformat": 4,
  "nbformat_minor": 4
}
