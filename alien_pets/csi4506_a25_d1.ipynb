{
  "cells": [
    {
      "cell_type": "markdown",
      "metadata": {
        "id": "lMLnt8eweAyH"
      },
      "source": [
        "**CSI 4506 Introduction à l’intelligence artificielle** <br/>\n",
        "*Devoir 1 : Santé des animaux de compagnie extraterrestres, préparation des données*\n",
        "\n",
        "# Identification\n",
        "\n",
        "Nom : Ruth Esther Apata<br/>\n",
        "Numéro d’étudiant :300144673\n",
        "\n",
        "## 1. Données\n",
        "\n",
        "Le jeu de données pour le Devoir 1 se trouve ici :\n",
        "\n",
        "- [github.com/turcotte/csi4106-f25/tree/main/assignments-data/a1](https://github.com/turcotte/csi4106-f25/tree/main/assignments-data/a1)\n",
        "\n",
        "Dans votre notebook, vous pouvez accéder et lire les données directement depuis ce dépôt GitHub.\n",
        "\n",
        "- [alien_pet_health.csv](https://raw.githubusercontent.com/turcotte/csi4106-f25/main/assignments-data/a1/alien_pet_health.csv)\n",
        "\n",
        "## 2. Tâches\n",
        "\n",
        "1. **Charger le jeu de données**\n",
        "\n",
        "- Lire le fichier CSV depuis l'URL GitHub fournie.\n",
        "- Afficher la dimension des données (*shape*), ainsi que les cinq premières lignes."
      ]
    },
    {
      "cell_type": "code",
      "execution_count": 553,
      "metadata": {
        "id": "RKXXTf0g66F8"
      },
      "outputs": [],
      "source": [
        "#imports\n",
        "import pandas as pd\n",
        "\n",
        "import numpy as np\n",
        "\n",
        "import matplotlib.pyplot as plt\n",
        "\n",
        "import seaborn as sns"
      ]
    },
    {
      "cell_type": "code",
      "execution_count": 554,
      "metadata": {
        "id": "9sE9ZeupeAyK"
      },
      "outputs": [],
      "source": [
        "# Cellule de code\n",
        "file_path = \"https://raw.githubusercontent.com/turcotte/csi4106-f25/main/assignments-data/a1/alien_pet_health.csv\"\n",
        "df = pd.read_csv(file_path)\n"
      ]
    },
    {
      "cell_type": "markdown",
      "metadata": {
        "id": "LHT-i7EieCqo"
      },
      "source": [
        "Nous allons diviser les données avec l'étiquette"
      ]
    },
    {
      "cell_type": "code",
      "execution_count": 555,
      "metadata": {
        "colab": {
          "base_uri": "https://localhost:8080/"
        },
        "id": "b3DVW5nmd-y1",
        "outputId": "b1e706ce-5a52-4c3a-b3a3-a24ac5f56407"
      },
      "outputs": [
        {
          "name": "stdout",
          "output_type": "stream",
          "text": [
            "(5000,)\n"
          ]
        }
      ],
      "source": [
        "y = df['health_outcome']\n",
        "df = df.drop('health_outcome', axis=1)\n",
        "\n",
        "print(y.shape)"
      ]
    },
    {
      "cell_type": "code",
      "execution_count": 556,
      "metadata": {
        "colab": {
          "base_uri": "https://localhost:8080/",
          "height": 625
        },
        "id": "4dAo3H6ygqQC",
        "outputId": "cd2083c2-7db7-4685-a6e6-bcb7dabc1c89"
      },
      "outputs": [
        {
          "name": "stdout",
          "output_type": "stream",
          "text": [
            "5000 13\n",
            "Il y a  5000 lignes et  13 colonnes\n",
            "\n",
            "\n",
            "Voici la liste des atributs \n",
            "\n",
            " \n",
            "record_id\n",
            "thermoreg_reading\n",
            "enzyme_activity_index\n",
            "dual_lobe_signal\n",
            "stress_variability\n",
            "habitat_zone\n",
            "activity_score\n",
            "fasting_flag\n",
            "station_code\n",
            "ingest_marker\n",
            "calibration_tag\n",
            "diagnostic_noise\n",
            "thermoreg_reading_fahrenheit\n",
            "\n",
            "\n",
            "Les 5 premières lignes\n"
          ]
        },
        {
          "data": {
            "text/html": [
              "<div>\n",
              "<style scoped>\n",
              "    .dataframe tbody tr th:only-of-type {\n",
              "        vertical-align: middle;\n",
              "    }\n",
              "\n",
              "    .dataframe tbody tr th {\n",
              "        vertical-align: top;\n",
              "    }\n",
              "\n",
              "    .dataframe thead th {\n",
              "        text-align: right;\n",
              "    }\n",
              "</style>\n",
              "<table border=\"1\" class=\"dataframe\">\n",
              "  <thead>\n",
              "    <tr style=\"text-align: right;\">\n",
              "      <th></th>\n",
              "      <th>record_id</th>\n",
              "      <th>thermoreg_reading</th>\n",
              "      <th>enzyme_activity_index</th>\n",
              "      <th>dual_lobe_signal</th>\n",
              "      <th>stress_variability</th>\n",
              "      <th>habitat_zone</th>\n",
              "      <th>activity_score</th>\n",
              "      <th>fasting_flag</th>\n",
              "      <th>station_code</th>\n",
              "      <th>ingest_marker</th>\n",
              "      <th>calibration_tag</th>\n",
              "      <th>diagnostic_noise</th>\n",
              "      <th>thermoreg_reading_fahrenheit</th>\n",
              "    </tr>\n",
              "  </thead>\n",
              "  <tbody>\n",
              "    <tr>\n",
              "      <th>0</th>\n",
              "      <td>P22042111</td>\n",
              "      <td>52.6</td>\n",
              "      <td>97.0</td>\n",
              "      <td>3.6</td>\n",
              "      <td>-3.5</td>\n",
              "      <td>c2</td>\n",
              "      <td>2.0</td>\n",
              "      <td>0.0</td>\n",
              "      <td>Z-WHH</td>\n",
              "      <td>1.0</td>\n",
              "      <td>A</td>\n",
              "      <td>0.482088</td>\n",
              "      <td>34.742454</td>\n",
              "    </tr>\n",
              "    <tr>\n",
              "      <th>1</th>\n",
              "      <td>P21571318</td>\n",
              "      <td>41.8</td>\n",
              "      <td>105.0</td>\n",
              "      <td>3.4</td>\n",
              "      <td>10.5</td>\n",
              "      <td>c1</td>\n",
              "      <td>2.0</td>\n",
              "      <td>0.0</td>\n",
              "      <td>z-eat</td>\n",
              "      <td>1.0</td>\n",
              "      <td>A</td>\n",
              "      <td>NaN</td>\n",
              "      <td>NaN</td>\n",
              "    </tr>\n",
              "    <tr>\n",
              "      <th>2</th>\n",
              "      <td>P81737259</td>\n",
              "      <td>56.2</td>\n",
              "      <td>126.0</td>\n",
              "      <td>5.5</td>\n",
              "      <td>9.6</td>\n",
              "      <td>c2</td>\n",
              "      <td>5.0</td>\n",
              "      <td>0.0</td>\n",
              "      <td>Z-IPF</td>\n",
              "      <td>1.0</td>\n",
              "      <td>A</td>\n",
              "      <td>-0.747352</td>\n",
              "      <td>38.754061</td>\n",
              "    </tr>\n",
              "    <tr>\n",
              "      <th>3</th>\n",
              "      <td>P54935007</td>\n",
              "      <td>57.7</td>\n",
              "      <td>106.0</td>\n",
              "      <td>-4.1</td>\n",
              "      <td>-4.0</td>\n",
              "      <td>c1</td>\n",
              "      <td>4.0</td>\n",
              "      <td>0.0</td>\n",
              "      <td>Z-FKO</td>\n",
              "      <td>1.0</td>\n",
              "      <td>A</td>\n",
              "      <td>0.570478</td>\n",
              "      <td>40.465082</td>\n",
              "    </tr>\n",
              "    <tr>\n",
              "      <th>4</th>\n",
              "      <td>P63102956</td>\n",
              "      <td>34.5</td>\n",
              "      <td>73.0</td>\n",
              "      <td>2.3</td>\n",
              "      <td>0.3</td>\n",
              "      <td>c4</td>\n",
              "      <td>5.0</td>\n",
              "      <td>1.0</td>\n",
              "      <td>Z-SVY</td>\n",
              "      <td>1.0</td>\n",
              "      <td>A</td>\n",
              "      <td>-0.310844</td>\n",
              "      <td>NaN</td>\n",
              "    </tr>\n",
              "  </tbody>\n",
              "</table>\n",
              "</div>"
            ],
            "text/plain": [
              "   record_id  thermoreg_reading  enzyme_activity_index  dual_lobe_signal  \\\n",
              "0  P22042111               52.6                   97.0               3.6   \n",
              "1  P21571318               41.8                  105.0               3.4   \n",
              "2  P81737259               56.2                  126.0               5.5   \n",
              "3  P54935007               57.7                  106.0              -4.1   \n",
              "4  P63102956               34.5                   73.0               2.3   \n",
              "\n",
              "   stress_variability habitat_zone  activity_score  fasting_flag station_code  \\\n",
              "0                -3.5           c2             2.0           0.0        Z-WHH   \n",
              "1                10.5           c1             2.0           0.0        z-eat   \n",
              "2                 9.6           c2             5.0           0.0        Z-IPF   \n",
              "3                -4.0           c1             4.0           0.0        Z-FKO   \n",
              "4                 0.3           c4             5.0           1.0        Z-SVY   \n",
              "\n",
              "   ingest_marker calibration_tag  diagnostic_noise  \\\n",
              "0            1.0               A          0.482088   \n",
              "1            1.0               A               NaN   \n",
              "2            1.0               A         -0.747352   \n",
              "3            1.0               A          0.570478   \n",
              "4            1.0               A         -0.310844   \n",
              "\n",
              "   thermoreg_reading_fahrenheit  \n",
              "0                     34.742454  \n",
              "1                           NaN  \n",
              "2                     38.754061  \n",
              "3                     40.465082  \n",
              "4                           NaN  "
            ]
          },
          "execution_count": 556,
          "metadata": {},
          "output_type": "execute_result"
        }
      ],
      "source": [
        "(N,D)=(df.shape)\n",
        "print(N,D)\n",
        "print('Il y a ',N,'lignes et ',D,'colonnes\\n\\n')\n",
        "\n",
        "print('Voici la liste des atributs \\n\\n ')\n",
        "for col in df.columns:\n",
        "    print(col)\n",
        "\n",
        "print('\\n\\nLes 5 premières lignes')\n",
        "df.head()\n"
      ]
    },
    {
      "cell_type": "markdown",
      "metadata": {
        "id": "2s68YqIxeAyM"
      },
      "source": [
        "2. **Valeurs manquantes**\n",
        "\n",
        "- Examiner le jeu de données pour identifier et évaluer les valeurs manquantes dans divers attributs. Les valeurs manquantes peuvent être représentées par des symboles tels que ‘?’, des chaînes vides ou d'autres substituts.\n",
        "- Lister l'attribut ou les attributs avec des valeurs manquantes.\n",
        "- Décrire la méthodologie utilisée pour cette analyse, et fournir le code correspondant, le cas échéant.\n",
        "- Convertir les jetons manquants (par exemple, chaînes vides, `n/a`, `?`) en `NaN`.\n",
        "- Forcer les colonnes numériques ou analogues à être numériques (erreurs→`NaN`).\n",
        "\n",
        "Après cette étape, chaque attribut sera peuplé de valeurs spécifiques ou de `NaN`."
      ]
    },
    {
      "cell_type": "code",
      "execution_count": 557,
      "metadata": {
        "colab": {
          "base_uri": "https://localhost:8080/"
        },
        "id": "tIjzgGnzwd7k",
        "outputId": "2ddc7d78-3f21-44f5-fc03-8ef42bfd7ecc"
      },
      "outputs": [
        {
          "name": "stdout",
          "output_type": "stream",
          "text": [
            "record_id                       180\n",
            "thermoreg_reading               299\n",
            "enzyme_activity_index           257\n",
            "dual_lobe_signal                244\n",
            "stress_variability              291\n",
            "habitat_zone                    152\n",
            "activity_score                  229\n",
            "fasting_flag                    236\n",
            "station_code                    148\n",
            "ingest_marker                   252\n",
            "calibration_tag                 161\n",
            "diagnostic_noise                262\n",
            "thermoreg_reading_fahrenheit    949\n",
            "dtype: int64\n",
            "3660\n"
          ]
        }
      ],
      "source": [
        "# Cellule de code\n",
        "print(df.isnull().sum())\n",
        "print(df.isnull().sum().sum())"
      ]
    },
    {
      "cell_type": "code",
      "execution_count": 558,
      "metadata": {
        "colab": {
          "base_uri": "https://localhost:8080/"
        },
        "id": "kMyzIypReAyM",
        "outputId": "fd6ea10d-60f1-4c36-81cc-875a9849833a"
      },
      "outputs": [
        {
          "name": "stdout",
          "output_type": "stream",
          "text": [
            "Liste des 10 éléments les moins fréquents de chaque attribut pour voir un peu quelles seraient les valeurs aberrantes \n",
            "comme des chaînes de caractères qui devraient pas être là\n",
            "record_id\n",
            "P26115097    1\n",
            "P95635034    1\n",
            "P42957842    1\n",
            "P40683150    1\n",
            "P18126382    1\n",
            "P25380513    1\n",
            "P42813209    1\n",
            "p35006706    1\n",
            "P63948712    1\n",
            "P59297768    1\n",
            "Name: count, dtype: int64\n",
            "thermoreg_reading\n",
            "-30.018674     1\n",
            " 67.900000     1\n",
            " 27.300000     1\n",
            " 67.400000     1\n",
            " 28.500000     1\n",
            " 76.300000     1\n",
            " 29.800000     1\n",
            " 132.118674    1\n",
            "-36.718674     1\n",
            "-40.718674     1\n",
            "Name: count, dtype: int64\n",
            "enzyme_activity_index\n",
            "183.000000    1\n",
            "182.935043    1\n",
            "326.990097    1\n",
            "233.321199    1\n",
            "349.993968    1\n",
            "192.000000    1\n",
            "325.732016    1\n",
            "265.352287    1\n",
            "298.423934    1\n",
            "11.000000     1\n",
            "Name: count, dtype: int64\n",
            "dual_lobe_signal\n",
            " 8.9    1\n",
            "-6.1    1\n",
            "-5.3    1\n",
            "-6.2    1\n",
            " 8.6    1\n",
            "-5.2    1\n",
            "-5.1    1\n",
            "-5.9    1\n",
            " 8.5    1\n",
            "-5.8    1\n",
            "Name: count, dtype: int64\n",
            "stress_variability\n",
            " 18.7    1\n",
            " 13.3    1\n",
            " 12.0    1\n",
            " 13.2    1\n",
            " 15.2    1\n",
            " 12.9    1\n",
            " 11.5    1\n",
            " 11.1    1\n",
            "-14.0    1\n",
            "-12.5    1\n",
            "Name: count, dtype: int64\n",
            "habitat_zone\n",
            "c4     492\n",
            "c5     348\n",
            "C1     170\n",
            "NaN    152\n",
            "C2     118\n",
            "?      102\n",
            "C3      89\n",
            "C4      57\n",
            "C5      37\n",
            "N/a      3\n",
            "Name: count, dtype: int64\n",
            "activity_score\n",
            "2.0    1181\n",
            "3.0    1181\n",
            "4.0     967\n",
            "5.0     737\n",
            "1.0     705\n",
            "NaN     229\n",
            "Name: count, dtype: int64\n",
            "fasting_flag\n",
            "0.0    2840\n",
            "1.0    1924\n",
            "NaN     236\n",
            "Name: count, dtype: int64\n",
            "station_code\n",
            "Z-MTH    1\n",
            "Z-AHU    1\n",
            "Z-VPE    1\n",
            "Z-LJN    1\n",
            "Z-QMC    1\n",
            "Z-WVP    1\n",
            "Z-NKQ    1\n",
            "Z-LAW    1\n",
            "Z-UCX    1\n",
            "Z-IPF    1\n",
            "Name: count, dtype: int64\n",
            "ingest_marker\n",
            "1.0    4748\n",
            "NaN     252\n",
            "Name: count, dtype: int64\n",
            "calibration_tag\n",
            "A      4461\n",
            "a       204\n",
            "NaN     161\n",
            "B        90\n",
            "?        68\n",
            "b        10\n",
            "N/a       6\n",
            "Name: count, dtype: int64\n",
            "diagnostic_noise\n",
            " 0.425295    1\n",
            "-1.972432    1\n",
            "-1.200361    1\n",
            "-0.401507    1\n",
            "-0.013194    1\n",
            "-0.395954    1\n",
            " 0.255881    1\n",
            " 0.235796    1\n",
            " 0.133051    1\n",
            "-0.747352    1\n",
            "Name: count, dtype: int64\n",
            "thermoreg_reading_fahrenheit\n",
            "32.594276    1\n",
            "24.266368    1\n",
            "35.318757    1\n",
            "31.550667    1\n",
            "30.336239    1\n",
            "25.871634    1\n",
            "43.002872    1\n",
            "30.609235    1\n",
            "28.145050    1\n",
            "33.333610    1\n",
            "Name: count, dtype: int64\n"
          ]
        }
      ],
      "source": [
        "print(\"Liste des 10 éléments les moins fréquents de chaque attribut pour voir un peu quelles seraient les valeurs aberrantes \\ncomme des chaînes de caractères qui devraient pas être là\")\n",
        "for col in df.columns:\n",
        "    print(df[col].value_counts(dropna=False).tail(10))\n",
        "\n",
        "\n"
      ]
    },
    {
      "cell_type": "markdown",
      "metadata": {
        "id": "XVaOcxohQsgi"
      },
      "source": [
        "On observe ici les chaines de caractère [\"N/a\", \"?\"...]"
      ]
    },
    {
      "cell_type": "markdown",
      "metadata": {
        "id": "Bgpod0JBRRBQ"
      },
      "source": [
        "On va ajouter ceci à d'autres chaînes qui pourraient ne pas être apparues ici"
      ]
    },
    {
      "cell_type": "code",
      "execution_count": 559,
      "metadata": {
        "colab": {
          "base_uri": "https://localhost:8080/"
        },
        "id": "x0zBuHyCRsL3",
        "outputId": "8929232d-c4b1-4d2a-959b-92a3a145d208"
      },
      "outputs": [
        {
          "name": "stdout",
          "output_type": "stream",
          "text": [
            "Contenu à nettoyer\n",
            "record_id\n",
            "  '?' : 103\n",
            "  '' : 0\n",
            "  'n/a' : 0\n",
            "  ' ' : 0\n",
            "  'N/a' : 4\n",
            "  'n/A' : 0\n",
            "  'NaN' : 180\n",
            "record_id un total de  : 287 valeurs manquantes \n",
            "\n",
            "thermoreg_reading\n",
            "  '?' : 0\n",
            "  '' : 0\n",
            "  'n/a' : 0\n",
            "  ' ' : 0\n",
            "  'N/a' : 0\n",
            "  'n/A' : 0\n",
            "  'NaN' : 299\n",
            "thermoreg_reading un total de  : 299 valeurs manquantes \n",
            "\n",
            "enzyme_activity_index\n",
            "  '?' : 0\n",
            "  '' : 0\n",
            "  'n/a' : 0\n",
            "  ' ' : 0\n",
            "  'N/a' : 0\n",
            "  'n/A' : 0\n",
            "  'NaN' : 257\n",
            "enzyme_activity_index un total de  : 257 valeurs manquantes \n",
            "\n",
            "dual_lobe_signal\n",
            "  '?' : 0\n",
            "  '' : 0\n",
            "  'n/a' : 0\n",
            "  ' ' : 0\n",
            "  'N/a' : 0\n",
            "  'n/A' : 0\n",
            "  'NaN' : 244\n",
            "dual_lobe_signal un total de  : 244 valeurs manquantes \n",
            "\n",
            "stress_variability\n",
            "  '?' : 0\n",
            "  '' : 0\n",
            "  'n/a' : 0\n",
            "  ' ' : 0\n",
            "  'N/a' : 0\n",
            "  'n/A' : 0\n",
            "  'NaN' : 291\n",
            "stress_variability un total de  : 291 valeurs manquantes \n",
            "\n",
            "habitat_zone\n",
            "  '?' : 102\n",
            "  '' : 0\n",
            "  'n/a' : 0\n",
            "  ' ' : 0\n",
            "  'N/a' : 3\n",
            "  'n/A' : 0\n",
            "  'NaN' : 152\n",
            "habitat_zone un total de  : 257 valeurs manquantes \n",
            "\n",
            "activity_score\n",
            "  '?' : 0\n",
            "  '' : 0\n",
            "  'n/a' : 0\n",
            "  ' ' : 0\n",
            "  'N/a' : 0\n",
            "  'n/A' : 0\n",
            "  'NaN' : 229\n",
            "activity_score un total de  : 229 valeurs manquantes \n",
            "\n",
            "fasting_flag\n",
            "  '?' : 0\n",
            "  '' : 0\n",
            "  'n/a' : 0\n",
            "  ' ' : 0\n",
            "  'N/a' : 0\n",
            "  'n/A' : 0\n",
            "  'NaN' : 236\n",
            "fasting_flag un total de  : 236 valeurs manquantes \n",
            "\n",
            "station_code\n",
            "  '?' : 68\n",
            "  '' : 0\n",
            "  'n/a' : 0\n",
            "  ' ' : 0\n",
            "  'N/a' : 1\n",
            "  'n/A' : 0\n",
            "  'NaN' : 148\n",
            "station_code un total de  : 217 valeurs manquantes \n",
            "\n",
            "ingest_marker\n",
            "  '?' : 0\n",
            "  '' : 0\n",
            "  'n/a' : 0\n",
            "  ' ' : 0\n",
            "  'N/a' : 0\n",
            "  'n/A' : 0\n",
            "  'NaN' : 252\n",
            "ingest_marker un total de  : 252 valeurs manquantes \n",
            "\n",
            "calibration_tag\n",
            "  '?' : 68\n",
            "  '' : 0\n",
            "  'n/a' : 0\n",
            "  ' ' : 0\n",
            "  'N/a' : 6\n",
            "  'n/A' : 0\n",
            "  'NaN' : 161\n",
            "calibration_tag un total de  : 235 valeurs manquantes \n",
            "\n",
            "diagnostic_noise\n",
            "  '?' : 0\n",
            "  '' : 0\n",
            "  'n/a' : 0\n",
            "  ' ' : 0\n",
            "  'N/a' : 0\n",
            "  'n/A' : 0\n",
            "  'NaN' : 262\n",
            "diagnostic_noise un total de  : 262 valeurs manquantes \n",
            "\n",
            "thermoreg_reading_fahrenheit\n",
            "  '?' : 0\n",
            "  '' : 0\n",
            "  'n/a' : 0\n",
            "  ' ' : 0\n",
            "  'N/a' : 0\n",
            "  'n/A' : 0\n",
            "  'NaN' : 949\n",
            "thermoreg_reading_fahrenheit un total de  : 949 valeurs manquantes \n",
            "\n",
            "Total de 3660 valeurs NULL et 355 valeurs corrompues\n"
          ]
        }
      ],
      "source": [
        "print(\"Contenu à nettoyer\")\n",
        "\n",
        "contenu_problematique=['?', '','n/a',\" \",'N/a',\"n/A\"]\n",
        "\n",
        "def compte(quoi):\n",
        "  total=0\n",
        "  compte_null =0\n",
        "  for col in df.columns:\n",
        "      print(col)\n",
        "      total_col=0\n",
        "      for val in quoi:\n",
        "          count = (df[col] == val).sum()\n",
        "          print(f\"  {val!r} : {count}\")\n",
        "          total_col+= count\n",
        "      nan_values = df[col].isnull().sum()\n",
        "      print(f\"  'NaN' : {nan_values}\")\n",
        "      print(f\"{col} un total de  : {nan_values+total_col} valeurs manquantes \\n\")\n",
        "      total+=total_col\n",
        "      compte_null+=nan_values\n",
        "  print(f\"Total de {compte_null} valeurs NULL et {total} valeurs corrompues\")\n",
        "\n",
        "\n",
        "\n",
        "compte(contenu_problematique)\n",
        "\n",
        "\n"
      ]
    },
    {
      "cell_type": "code",
      "execution_count": 560,
      "metadata": {
        "colab": {
          "base_uri": "https://localhost:8080/"
        },
        "id": "csrXnXkfvTBP",
        "outputId": "47e26bbf-3049-4a9b-c1a5-3bc05f7540ca"
      },
      "outputs": [
        {
          "name": "stdout",
          "output_type": "stream",
          "text": [
            "Contenu corrompu remplacé par NaN\n"
          ]
        }
      ],
      "source": [
        "df.replace(contenu_problematique, np.nan, inplace=True)\n",
        "print(\"Contenu corrompu remplacé par NaN\")\n",
        "\n"
      ]
    },
    {
      "cell_type": "code",
      "execution_count": 561,
      "metadata": {
        "colab": {
          "base_uri": "https://localhost:8080/"
        },
        "id": "Tnw_9zUxax3c",
        "outputId": "d127d7a8-fac1-454f-bc88-d286bae576c0"
      },
      "outputs": [
        {
          "name": "stdout",
          "output_type": "stream",
          "text": [
            "\n",
            "Après nettoyage\n",
            "record_id\n",
            "  '?' : 0\n",
            "  '' : 0\n",
            "  'n/a' : 0\n",
            "  ' ' : 0\n",
            "  'N/a' : 0\n",
            "  'n/A' : 0\n",
            "  'NaN' : 287\n",
            "record_id un total de  : 287 valeurs manquantes \n",
            "\n",
            "thermoreg_reading\n",
            "  '?' : 0\n",
            "  '' : 0\n",
            "  'n/a' : 0\n",
            "  ' ' : 0\n",
            "  'N/a' : 0\n",
            "  'n/A' : 0\n",
            "  'NaN' : 299\n",
            "thermoreg_reading un total de  : 299 valeurs manquantes \n",
            "\n",
            "enzyme_activity_index\n",
            "  '?' : 0\n",
            "  '' : 0\n",
            "  'n/a' : 0\n",
            "  ' ' : 0\n",
            "  'N/a' : 0\n",
            "  'n/A' : 0\n",
            "  'NaN' : 257\n",
            "enzyme_activity_index un total de  : 257 valeurs manquantes \n",
            "\n",
            "dual_lobe_signal\n",
            "  '?' : 0\n",
            "  '' : 0\n",
            "  'n/a' : 0\n",
            "  ' ' : 0\n",
            "  'N/a' : 0\n",
            "  'n/A' : 0\n",
            "  'NaN' : 244\n",
            "dual_lobe_signal un total de  : 244 valeurs manquantes \n",
            "\n",
            "stress_variability\n",
            "  '?' : 0\n",
            "  '' : 0\n",
            "  'n/a' : 0\n",
            "  ' ' : 0\n",
            "  'N/a' : 0\n",
            "  'n/A' : 0\n",
            "  'NaN' : 291\n",
            "stress_variability un total de  : 291 valeurs manquantes \n",
            "\n",
            "habitat_zone\n",
            "  '?' : 0\n",
            "  '' : 0\n",
            "  'n/a' : 0\n",
            "  ' ' : 0\n",
            "  'N/a' : 0\n",
            "  'n/A' : 0\n",
            "  'NaN' : 257\n",
            "habitat_zone un total de  : 257 valeurs manquantes \n",
            "\n",
            "activity_score\n",
            "  '?' : 0\n",
            "  '' : 0\n",
            "  'n/a' : 0\n",
            "  ' ' : 0\n",
            "  'N/a' : 0\n",
            "  'n/A' : 0\n",
            "  'NaN' : 229\n",
            "activity_score un total de  : 229 valeurs manquantes \n",
            "\n",
            "fasting_flag\n",
            "  '?' : 0\n",
            "  '' : 0\n",
            "  'n/a' : 0\n",
            "  ' ' : 0\n",
            "  'N/a' : 0\n",
            "  'n/A' : 0\n",
            "  'NaN' : 236\n",
            "fasting_flag un total de  : 236 valeurs manquantes \n",
            "\n",
            "station_code\n",
            "  '?' : 0\n",
            "  '' : 0\n",
            "  'n/a' : 0\n",
            "  ' ' : 0\n",
            "  'N/a' : 0\n",
            "  'n/A' : 0\n",
            "  'NaN' : 217\n",
            "station_code un total de  : 217 valeurs manquantes \n",
            "\n",
            "ingest_marker\n",
            "  '?' : 0\n",
            "  '' : 0\n",
            "  'n/a' : 0\n",
            "  ' ' : 0\n",
            "  'N/a' : 0\n",
            "  'n/A' : 0\n",
            "  'NaN' : 252\n",
            "ingest_marker un total de  : 252 valeurs manquantes \n",
            "\n",
            "calibration_tag\n",
            "  '?' : 0\n",
            "  '' : 0\n",
            "  'n/a' : 0\n",
            "  ' ' : 0\n",
            "  'N/a' : 0\n",
            "  'n/A' : 0\n",
            "  'NaN' : 235\n",
            "calibration_tag un total de  : 235 valeurs manquantes \n",
            "\n",
            "diagnostic_noise\n",
            "  '?' : 0\n",
            "  '' : 0\n",
            "  'n/a' : 0\n",
            "  ' ' : 0\n",
            "  'N/a' : 0\n",
            "  'n/A' : 0\n",
            "  'NaN' : 262\n",
            "diagnostic_noise un total de  : 262 valeurs manquantes \n",
            "\n",
            "thermoreg_reading_fahrenheit\n",
            "  '?' : 0\n",
            "  '' : 0\n",
            "  'n/a' : 0\n",
            "  ' ' : 0\n",
            "  'N/a' : 0\n",
            "  'n/A' : 0\n",
            "  'NaN' : 949\n",
            "thermoreg_reading_fahrenheit un total de  : 949 valeurs manquantes \n",
            "\n",
            "Total de 4015 valeurs NULL et 0 valeurs corrompues\n"
          ]
        }
      ],
      "source": [
        "print(\"\\nAprès nettoyage\")\n",
        "compte(contenu_problematique)"
      ]
    },
    {
      "cell_type": "markdown",
      "metadata": {
        "id": "npXy-d5M2-Wi"
      },
      "source": [
        "On va forcer les colonnes numériques ou analogues à être numériques (erreurs→NaN)."
      ]
    },
    {
      "cell_type": "code",
      "execution_count": 562,
      "metadata": {
        "colab": {
          "base_uri": "https://localhost:8080/",
          "height": 383
        },
        "id": "cl4lK8Z029k8",
        "outputId": "1635561a-76a2-4463-8c8a-6a72fd14237f"
      },
      "outputs": [
        {
          "data": {
            "text/html": [
              "<div>\n",
              "<style scoped>\n",
              "    .dataframe tbody tr th:only-of-type {\n",
              "        vertical-align: middle;\n",
              "    }\n",
              "\n",
              "    .dataframe tbody tr th {\n",
              "        vertical-align: top;\n",
              "    }\n",
              "\n",
              "    .dataframe thead th {\n",
              "        text-align: right;\n",
              "    }\n",
              "</style>\n",
              "<table border=\"1\" class=\"dataframe\">\n",
              "  <thead>\n",
              "    <tr style=\"text-align: right;\">\n",
              "      <th></th>\n",
              "      <th>record_id</th>\n",
              "      <th>thermoreg_reading</th>\n",
              "      <th>enzyme_activity_index</th>\n",
              "      <th>dual_lobe_signal</th>\n",
              "      <th>stress_variability</th>\n",
              "      <th>habitat_zone</th>\n",
              "      <th>activity_score</th>\n",
              "      <th>fasting_flag</th>\n",
              "      <th>station_code</th>\n",
              "      <th>ingest_marker</th>\n",
              "      <th>calibration_tag</th>\n",
              "      <th>diagnostic_noise</th>\n",
              "      <th>thermoreg_reading_fahrenheit</th>\n",
              "    </tr>\n",
              "  </thead>\n",
              "  <tbody>\n",
              "    <tr>\n",
              "      <th>0</th>\n",
              "      <td>P22042111</td>\n",
              "      <td>52.6</td>\n",
              "      <td>97.0</td>\n",
              "      <td>3.6</td>\n",
              "      <td>-3.5</td>\n",
              "      <td>c2</td>\n",
              "      <td>2.0</td>\n",
              "      <td>0.0</td>\n",
              "      <td>Z-WHH</td>\n",
              "      <td>1.0</td>\n",
              "      <td>A</td>\n",
              "      <td>0.482088</td>\n",
              "      <td>34.742454</td>\n",
              "    </tr>\n",
              "    <tr>\n",
              "      <th>1</th>\n",
              "      <td>P21571318</td>\n",
              "      <td>41.8</td>\n",
              "      <td>105.0</td>\n",
              "      <td>3.4</td>\n",
              "      <td>10.5</td>\n",
              "      <td>c1</td>\n",
              "      <td>2.0</td>\n",
              "      <td>0.0</td>\n",
              "      <td>z-eat</td>\n",
              "      <td>1.0</td>\n",
              "      <td>A</td>\n",
              "      <td>NaN</td>\n",
              "      <td>NaN</td>\n",
              "    </tr>\n",
              "    <tr>\n",
              "      <th>2</th>\n",
              "      <td>P81737259</td>\n",
              "      <td>56.2</td>\n",
              "      <td>126.0</td>\n",
              "      <td>5.5</td>\n",
              "      <td>9.6</td>\n",
              "      <td>c2</td>\n",
              "      <td>5.0</td>\n",
              "      <td>0.0</td>\n",
              "      <td>Z-IPF</td>\n",
              "      <td>1.0</td>\n",
              "      <td>A</td>\n",
              "      <td>-0.747352</td>\n",
              "      <td>38.754061</td>\n",
              "    </tr>\n",
              "    <tr>\n",
              "      <th>3</th>\n",
              "      <td>P54935007</td>\n",
              "      <td>57.7</td>\n",
              "      <td>106.0</td>\n",
              "      <td>-4.1</td>\n",
              "      <td>-4.0</td>\n",
              "      <td>c1</td>\n",
              "      <td>4.0</td>\n",
              "      <td>0.0</td>\n",
              "      <td>Z-FKO</td>\n",
              "      <td>1.0</td>\n",
              "      <td>A</td>\n",
              "      <td>0.570478</td>\n",
              "      <td>40.465082</td>\n",
              "    </tr>\n",
              "    <tr>\n",
              "      <th>4</th>\n",
              "      <td>P63102956</td>\n",
              "      <td>34.5</td>\n",
              "      <td>73.0</td>\n",
              "      <td>2.3</td>\n",
              "      <td>0.3</td>\n",
              "      <td>c4</td>\n",
              "      <td>5.0</td>\n",
              "      <td>1.0</td>\n",
              "      <td>Z-SVY</td>\n",
              "      <td>1.0</td>\n",
              "      <td>A</td>\n",
              "      <td>-0.310844</td>\n",
              "      <td>NaN</td>\n",
              "    </tr>\n",
              "    <tr>\n",
              "      <th>5</th>\n",
              "      <td>P64134852</td>\n",
              "      <td>39.7</td>\n",
              "      <td>69.0</td>\n",
              "      <td>-1.2</td>\n",
              "      <td>5.1</td>\n",
              "      <td>c4</td>\n",
              "      <td>2.0</td>\n",
              "      <td>1.0</td>\n",
              "      <td>Z-WAH</td>\n",
              "      <td>1.0</td>\n",
              "      <td>A</td>\n",
              "      <td>1.416906</td>\n",
              "      <td>20.280384</td>\n",
              "    </tr>\n",
              "    <tr>\n",
              "      <th>6</th>\n",
              "      <td>P74095503</td>\n",
              "      <td>51.2</td>\n",
              "      <td>94.0</td>\n",
              "      <td>-1.7</td>\n",
              "      <td>3.8</td>\n",
              "      <td>c2</td>\n",
              "      <td>3.0</td>\n",
              "      <td>1.0</td>\n",
              "      <td>Z-YDK</td>\n",
              "      <td>1.0</td>\n",
              "      <td>A</td>\n",
              "      <td>-1.347186</td>\n",
              "      <td>33.150564</td>\n",
              "    </tr>\n",
              "    <tr>\n",
              "      <th>7</th>\n",
              "      <td>P12582010</td>\n",
              "      <td>47.6</td>\n",
              "      <td>113.0</td>\n",
              "      <td>0.4</td>\n",
              "      <td>-4.4</td>\n",
              "      <td>c5</td>\n",
              "      <td>3.0</td>\n",
              "      <td>1.0</td>\n",
              "      <td>Z-SFR</td>\n",
              "      <td>1.0</td>\n",
              "      <td>A</td>\n",
              "      <td>-0.554478</td>\n",
              "      <td>NaN</td>\n",
              "    </tr>\n",
              "    <tr>\n",
              "      <th>8</th>\n",
              "      <td>P53695296</td>\n",
              "      <td>50.0</td>\n",
              "      <td>80.0</td>\n",
              "      <td>-2.6</td>\n",
              "      <td>NaN</td>\n",
              "      <td>c3</td>\n",
              "      <td>NaN</td>\n",
              "      <td>1.0</td>\n",
              "      <td>Z-DCX</td>\n",
              "      <td>1.0</td>\n",
              "      <td>A</td>\n",
              "      <td>-0.820194</td>\n",
              "      <td>31.848790</td>\n",
              "    </tr>\n",
              "    <tr>\n",
              "      <th>9</th>\n",
              "      <td>P23313347</td>\n",
              "      <td>43.3</td>\n",
              "      <td>71.0</td>\n",
              "      <td>0.4</td>\n",
              "      <td>-2.0</td>\n",
              "      <td>c4</td>\n",
              "      <td>3.0</td>\n",
              "      <td>1.0</td>\n",
              "      <td>Z-DJJ</td>\n",
              "      <td>1.0</td>\n",
              "      <td>A</td>\n",
              "      <td>0.280675</td>\n",
              "      <td>24.322605</td>\n",
              "    </tr>\n",
              "  </tbody>\n",
              "</table>\n",
              "</div>"
            ],
            "text/plain": [
              "   record_id  thermoreg_reading  enzyme_activity_index  dual_lobe_signal  \\\n",
              "0  P22042111               52.6                   97.0               3.6   \n",
              "1  P21571318               41.8                  105.0               3.4   \n",
              "2  P81737259               56.2                  126.0               5.5   \n",
              "3  P54935007               57.7                  106.0              -4.1   \n",
              "4  P63102956               34.5                   73.0               2.3   \n",
              "5  P64134852               39.7                   69.0              -1.2   \n",
              "6  P74095503               51.2                   94.0              -1.7   \n",
              "7  P12582010               47.6                  113.0               0.4   \n",
              "8  P53695296               50.0                   80.0              -2.6   \n",
              "9  P23313347               43.3                   71.0               0.4   \n",
              "\n",
              "   stress_variability habitat_zone  activity_score  fasting_flag station_code  \\\n",
              "0                -3.5           c2             2.0           0.0        Z-WHH   \n",
              "1                10.5           c1             2.0           0.0        z-eat   \n",
              "2                 9.6           c2             5.0           0.0        Z-IPF   \n",
              "3                -4.0           c1             4.0           0.0        Z-FKO   \n",
              "4                 0.3           c4             5.0           1.0        Z-SVY   \n",
              "5                 5.1           c4             2.0           1.0        Z-WAH   \n",
              "6                 3.8           c2             3.0           1.0        Z-YDK   \n",
              "7                -4.4           c5             3.0           1.0        Z-SFR   \n",
              "8                 NaN           c3             NaN           1.0        Z-DCX   \n",
              "9                -2.0           c4             3.0           1.0        Z-DJJ   \n",
              "\n",
              "   ingest_marker calibration_tag  diagnostic_noise  \\\n",
              "0            1.0               A          0.482088   \n",
              "1            1.0               A               NaN   \n",
              "2            1.0               A         -0.747352   \n",
              "3            1.0               A          0.570478   \n",
              "4            1.0               A         -0.310844   \n",
              "5            1.0               A          1.416906   \n",
              "6            1.0               A         -1.347186   \n",
              "7            1.0               A         -0.554478   \n",
              "8            1.0               A         -0.820194   \n",
              "9            1.0               A          0.280675   \n",
              "\n",
              "   thermoreg_reading_fahrenheit  \n",
              "0                     34.742454  \n",
              "1                           NaN  \n",
              "2                     38.754061  \n",
              "3                     40.465082  \n",
              "4                           NaN  \n",
              "5                     20.280384  \n",
              "6                     33.150564  \n",
              "7                           NaN  \n",
              "8                     31.848790  \n",
              "9                     24.322605  "
            ]
          },
          "execution_count": 562,
          "metadata": {},
          "output_type": "execute_result"
        }
      ],
      "source": [
        "df.head(10)\n"
      ]
    },
    {
      "cell_type": "markdown",
      "metadata": {
        "id": "vA-0s1NH4ehh"
      },
      "source": [
        "Les colonnes qui doivent être numériques sont:<br/>\n",
        "thermoreg_reading               <br/>\n",
        "enzyme_activity_index           <br/>\n",
        "dual_lobe_signal                <br/>\n",
        "stress_variability              <br/>\n",
        "activity_score                  <br/>\n",
        "fasting_flag                    <br/>\n",
        "health_outcome                  <br/>\n",
        "ingest_marker                   <br/>\n",
        "diagnostic_noise                <br/>\n",
        "thermoreg_reading_fahrenheit    <br/>\n"
      ]
    },
    {
      "cell_type": "code",
      "execution_count": 563,
      "metadata": {
        "colab": {
          "base_uri": "https://localhost:8080/"
        },
        "id": "BItUhVS65EK5",
        "outputId": "6772202e-77d0-4c02-a7dd-fc8908d23056"
      },
      "outputs": [
        {
          "name": "stdout",
          "output_type": "stream",
          "text": [
            "Après numérisation: record_id                        object\n",
            "thermoreg_reading               float64\n",
            "enzyme_activity_index           float64\n",
            "dual_lobe_signal                float64\n",
            "stress_variability              float64\n",
            "habitat_zone                     object\n",
            "activity_score                  float64\n",
            "fasting_flag                    float64\n",
            "station_code                     object\n",
            "ingest_marker                   float64\n",
            "calibration_tag                  object\n",
            "diagnostic_noise                float64\n",
            "thermoreg_reading_fahrenheit    float64\n",
            "dtype: object\n",
            "4015\n"
          ]
        }
      ],
      "source": [
        "num_col = ['thermoreg_reading', 'enzyme_activity_index', 'dual_lobe_signal', 'stress_variability', 'activity_score', 'fasting_flag', 'ingest_marker', 'diagnostic_noise', 'thermoreg_reading_fahrenheit']\n",
        "for col in num_col:\n",
        "    df[col] = pd.to_numeric(df[col], errors='coerce')\n",
        "\n",
        "print(f\"Après numérisation: {df.dtypes}\")\n",
        "\n",
        "print(df.isnull().sum().sum())"
      ]
    },
    {
      "cell_type": "markdown",
      "metadata": {
        "id": "gIoYUsTd6Mmy"
      },
      "source": [
        "On voit que le nombre de valeurs NaN est resté le même donc pd.to_numeric n'a pas rencontré des valeurs non convertissables en nombre."
      ]
    },
    {
      "cell_type": "code",
      "execution_count": 564,
      "metadata": {
        "colab": {
          "base_uri": "https://localhost:8080/",
          "height": 226
        },
        "id": "Bdu36S7W6hrZ",
        "outputId": "0554d394-8050-4c8a-ecdf-9bdff21607b4"
      },
      "outputs": [
        {
          "data": {
            "text/html": [
              "<div>\n",
              "<style scoped>\n",
              "    .dataframe tbody tr th:only-of-type {\n",
              "        vertical-align: middle;\n",
              "    }\n",
              "\n",
              "    .dataframe tbody tr th {\n",
              "        vertical-align: top;\n",
              "    }\n",
              "\n",
              "    .dataframe thead th {\n",
              "        text-align: right;\n",
              "    }\n",
              "</style>\n",
              "<table border=\"1\" class=\"dataframe\">\n",
              "  <thead>\n",
              "    <tr style=\"text-align: right;\">\n",
              "      <th></th>\n",
              "      <th>record_id</th>\n",
              "      <th>thermoreg_reading</th>\n",
              "      <th>enzyme_activity_index</th>\n",
              "      <th>dual_lobe_signal</th>\n",
              "      <th>stress_variability</th>\n",
              "      <th>habitat_zone</th>\n",
              "      <th>activity_score</th>\n",
              "      <th>fasting_flag</th>\n",
              "      <th>station_code</th>\n",
              "      <th>ingest_marker</th>\n",
              "      <th>calibration_tag</th>\n",
              "      <th>diagnostic_noise</th>\n",
              "      <th>thermoreg_reading_fahrenheit</th>\n",
              "    </tr>\n",
              "  </thead>\n",
              "  <tbody>\n",
              "    <tr>\n",
              "      <th>0</th>\n",
              "      <td>P22042111</td>\n",
              "      <td>52.6</td>\n",
              "      <td>97.0</td>\n",
              "      <td>3.6</td>\n",
              "      <td>-3.5</td>\n",
              "      <td>c2</td>\n",
              "      <td>2.0</td>\n",
              "      <td>0.0</td>\n",
              "      <td>Z-WHH</td>\n",
              "      <td>1.0</td>\n",
              "      <td>A</td>\n",
              "      <td>0.482088</td>\n",
              "      <td>34.742454</td>\n",
              "    </tr>\n",
              "    <tr>\n",
              "      <th>1</th>\n",
              "      <td>P21571318</td>\n",
              "      <td>41.8</td>\n",
              "      <td>105.0</td>\n",
              "      <td>3.4</td>\n",
              "      <td>10.5</td>\n",
              "      <td>c1</td>\n",
              "      <td>2.0</td>\n",
              "      <td>0.0</td>\n",
              "      <td>z-eat</td>\n",
              "      <td>1.0</td>\n",
              "      <td>A</td>\n",
              "      <td>NaN</td>\n",
              "      <td>NaN</td>\n",
              "    </tr>\n",
              "    <tr>\n",
              "      <th>2</th>\n",
              "      <td>P81737259</td>\n",
              "      <td>56.2</td>\n",
              "      <td>126.0</td>\n",
              "      <td>5.5</td>\n",
              "      <td>9.6</td>\n",
              "      <td>c2</td>\n",
              "      <td>5.0</td>\n",
              "      <td>0.0</td>\n",
              "      <td>Z-IPF</td>\n",
              "      <td>1.0</td>\n",
              "      <td>A</td>\n",
              "      <td>-0.747352</td>\n",
              "      <td>38.754061</td>\n",
              "    </tr>\n",
              "    <tr>\n",
              "      <th>3</th>\n",
              "      <td>P54935007</td>\n",
              "      <td>57.7</td>\n",
              "      <td>106.0</td>\n",
              "      <td>-4.1</td>\n",
              "      <td>-4.0</td>\n",
              "      <td>c1</td>\n",
              "      <td>4.0</td>\n",
              "      <td>0.0</td>\n",
              "      <td>Z-FKO</td>\n",
              "      <td>1.0</td>\n",
              "      <td>A</td>\n",
              "      <td>0.570478</td>\n",
              "      <td>40.465082</td>\n",
              "    </tr>\n",
              "    <tr>\n",
              "      <th>4</th>\n",
              "      <td>P63102956</td>\n",
              "      <td>34.5</td>\n",
              "      <td>73.0</td>\n",
              "      <td>2.3</td>\n",
              "      <td>0.3</td>\n",
              "      <td>c4</td>\n",
              "      <td>5.0</td>\n",
              "      <td>1.0</td>\n",
              "      <td>Z-SVY</td>\n",
              "      <td>1.0</td>\n",
              "      <td>A</td>\n",
              "      <td>-0.310844</td>\n",
              "      <td>NaN</td>\n",
              "    </tr>\n",
              "  </tbody>\n",
              "</table>\n",
              "</div>"
            ],
            "text/plain": [
              "   record_id  thermoreg_reading  enzyme_activity_index  dual_lobe_signal  \\\n",
              "0  P22042111               52.6                   97.0               3.6   \n",
              "1  P21571318               41.8                  105.0               3.4   \n",
              "2  P81737259               56.2                  126.0               5.5   \n",
              "3  P54935007               57.7                  106.0              -4.1   \n",
              "4  P63102956               34.5                   73.0               2.3   \n",
              "\n",
              "   stress_variability habitat_zone  activity_score  fasting_flag station_code  \\\n",
              "0                -3.5           c2             2.0           0.0        Z-WHH   \n",
              "1                10.5           c1             2.0           0.0        z-eat   \n",
              "2                 9.6           c2             5.0           0.0        Z-IPF   \n",
              "3                -4.0           c1             4.0           0.0        Z-FKO   \n",
              "4                 0.3           c4             5.0           1.0        Z-SVY   \n",
              "\n",
              "   ingest_marker calibration_tag  diagnostic_noise  \\\n",
              "0            1.0               A          0.482088   \n",
              "1            1.0               A               NaN   \n",
              "2            1.0               A         -0.747352   \n",
              "3            1.0               A          0.570478   \n",
              "4            1.0               A         -0.310844   \n",
              "\n",
              "   thermoreg_reading_fahrenheit  \n",
              "0                     34.742454  \n",
              "1                           NaN  \n",
              "2                     38.754061  \n",
              "3                     40.465082  \n",
              "4                           NaN  "
            ]
          },
          "execution_count": 564,
          "metadata": {},
          "output_type": "execute_result"
        }
      ],
      "source": [
        "df.head()"
      ]
    },
    {
      "cell_type": "markdown",
      "metadata": {
        "id": "Yygput-feAyN"
      },
      "source": [
        "3. **Attributs catégoriels**\n",
        "\n",
        "- Analyser le jeu de données pour détecter d'éventuels problèmes avec les attributs catégoriels. Par exemple, vous pourriez rencontrer des cas où la même catégorie est représentée de manière incohérente en utilisant à la fois des lettres minuscules et majuscules, ou où des espaces superflus sont inclus.\n",
        "- Décrire la méthodologie utilisée pour cette analyse, et fournir le code correspondant, le cas échéant.\n",
        "- Normaliser les valeurs des attributs catégoriels."
      ]
    },
    {
      "cell_type": "code",
      "execution_count": 565,
      "metadata": {
        "colab": {
          "base_uri": "https://localhost:8080/"
        },
        "id": "ouZzD7GVeAyO",
        "outputId": "ca841f8b-df6e-4010-95ee-01b385a95d9f"
      },
      "outputs": [
        {
          "name": "stdout",
          "output_type": "stream",
          "text": [
            "Voici les attributs catégoriels: ['record_id', 'habitat_zone', 'station_code', 'calibration_tag']\n"
          ]
        }
      ],
      "source": [
        "# Cellule de code\n",
        "cat_col =[col for col in df.columns if col not in num_col]\n",
        "print(f\"Voici les attributs catégoriels: {cat_col}\")"
      ]
    },
    {
      "cell_type": "code",
      "execution_count": 566,
      "metadata": {
        "colab": {
          "base_uri": "https://localhost:8080/"
        },
        "id": "k2I3R5iU7cI0",
        "outputId": "b5d799e5-9728-4094-8d75-7539da8b56e9"
      },
      "outputs": [
        {
          "name": "stdout",
          "output_type": "stream",
          "text": [
            "record_id\n",
            "NaN          287\n",
            "P53695296      1\n",
            "P23313347      1\n",
            "P94810628      1\n",
            "P99508614      1\n",
            "            ... \n",
            "P25380513      1\n",
            "P42813209      1\n",
            "p35006706      1\n",
            "P63948712      1\n",
            "P12582010      1\n",
            "Name: count, Length: 4714, dtype: int64 \n",
            "\n",
            "habitat_zone\n",
            "c1     1475\n",
            "c2     1072\n",
            "c3      885\n",
            "c4      492\n",
            "c5      348\n",
            "NaN     257\n",
            "C1      170\n",
            "C2      118\n",
            "C3       89\n",
            "C4       57\n",
            "C5       37\n",
            "Name: count, dtype: int64 \n",
            "\n",
            "station_code\n",
            "NaN      217\n",
            "Z-QXD      4\n",
            "Z-ENI      3\n",
            "Z-PGV      3\n",
            "Z-FJA      3\n",
            "        ... \n",
            "Z-WVP      1\n",
            "Z-NKQ      1\n",
            "Z-LAW      1\n",
            "Z-UCX      1\n",
            "Z-FPM      1\n",
            "Name: count, Length: 4273, dtype: int64 \n",
            "\n",
            "calibration_tag\n",
            "A      4461\n",
            "NaN     235\n",
            "a       204\n",
            "B        90\n",
            "b        10\n",
            "Name: count, dtype: int64 \n",
            "\n"
          ]
        }
      ],
      "source": [
        "for col in cat_col:\n",
        "    print(df[col].value_counts(dropna=False),\"\\n\")"
      ]
    },
    {
      "cell_type": "markdown",
      "metadata": {
        "id": "it3QUnCPEIPh"
      },
      "source": [
        "On remarque que dans les attributs catégoriels, certaines sous-classes sont majuscules ou minuscules ce qui est interprété comme des sous-catégories différentes. On va donc les mettre en majuscules pour harmoniser le tout."
      ]
    },
    {
      "cell_type": "code",
      "execution_count": 567,
      "metadata": {
        "colab": {
          "base_uri": "https://localhost:8080/"
        },
        "id": "Flw2cacA8wH5",
        "outputId": "04991bd6-a5bc-4673-ccd4-038859d749a0"
      },
      "outputs": [
        {
          "name": "stdout",
          "output_type": "stream",
          "text": [
            "record_id\n",
            "NaN          287\n",
            "P53695296      1\n",
            "P23313347      1\n",
            "P94810628      1\n",
            "P99508614      1\n",
            "            ... \n",
            "P25380513      1\n",
            "P42813209      1\n",
            "P35006706      1\n",
            "P63948712      1\n",
            "P12582010      1\n",
            "Name: count, Length: 4714, dtype: int64 \n",
            "\n",
            "habitat_zone\n",
            "C1     1645\n",
            "C2     1190\n",
            "C3      974\n",
            "C4      549\n",
            "C5      385\n",
            "NaN     257\n",
            "Name: count, dtype: int64 \n",
            "\n",
            "station_code\n",
            "NaN      217\n",
            "Z-SHH      4\n",
            "Z-EIY      4\n",
            "Z-QXD      4\n",
            "Z-HZT      4\n",
            "        ... \n",
            "Z-WVP      1\n",
            "Z-NKQ      1\n",
            "Z-LAW      1\n",
            "Z-UCX      1\n",
            "Z-ZAR      1\n",
            "Name: count, Length: 4161, dtype: int64 \n",
            "\n",
            "calibration_tag\n",
            "A      4665\n",
            "NaN     235\n",
            "B       100\n",
            "Name: count, dtype: int64 \n",
            "\n"
          ]
        }
      ],
      "source": [
        "for col in cat_col:\n",
        "  df[col] = df[col].str.upper()\n",
        "  print(df[col].value_counts(dropna=False),\"\\n\")"
      ]
    },
    {
      "cell_type": "markdown",
      "metadata": {
        "id": "re8l0ZN3eAyO"
      },
      "source": [
        "4. **Supprimer les attributs non informatifs**\n",
        "\n",
        "- Éliminer les types d’attributs suivants du jeu de données, le cas échéant :\n",
        "  - Identifiants uniques (ID)\n",
        "  - Caractéristiques constantes et quasi-constantes\n",
        "  - Quasi-identifiants à haute cardinalité\n",
        "  - Duplicatas linéaires mis à l'échelle\n",
        "- Fournir la liste des attributs spécifiques supprimés.\n",
        "- Pour chaque attribut listé, offrir une brève justification de son exclusion."
      ]
    },
    {
      "cell_type": "markdown",
      "metadata": {
        "id": "jQxrGHpPNPTT"
      },
      "source": [
        "Nous allons explorer chaque attribut catégoriel en commençant par record_id"
      ]
    },
    {
      "cell_type": "code",
      "execution_count": 568,
      "metadata": {
        "colab": {
          "base_uri": "https://localhost:8080/"
        },
        "id": "zW8z2MDBeAyP",
        "outputId": "e00f5ab2-a3f0-4e96-9415-e1a3c8ec503c"
      },
      "outputs": [
        {
          "name": "stdout",
          "output_type": "stream",
          "text": [
            "----------------record_id----------------\n",
            "Nombre d'identifiants différents: 4714\n",
            "Qui apparaissent au moins 2 fois: 1 \n",
            "Qui apparaissent une seule foiss: 4713\n",
            "\n",
            "----------------habitat_zone----------------\n",
            "Nombre d'identifiants différents: 6\n",
            "Qui apparaissent au moins 2 fois: 6 \n",
            "Qui apparaissent une seule foiss: 0\n",
            "\n",
            "----------------station_code----------------\n",
            "Nombre d'identifiants différents: 4161\n",
            "Qui apparaissent au moins 2 fois: 567 \n",
            "Qui apparaissent une seule foiss: 3594\n",
            "\n",
            "----------------calibration_tag----------------\n",
            "Nombre d'identifiants différents: 3\n",
            "Qui apparaissent au moins 2 fois: 3 \n",
            "Qui apparaissent une seule foiss: 0\n",
            "\n"
          ]
        }
      ],
      "source": [
        "# Cellule de code\n",
        "\n",
        "for col in cat_col:\n",
        "  print(f\"----------------{col}----------------\")\n",
        "  unique_ids = len(df[col].unique())\n",
        "  print(f\"Nombre d'identifiants différents: {unique_ids}\")\n",
        "\n",
        "  result = (df[col].value_counts(dropna=False)!=1).sum()\n",
        "  print(f\"Qui apparaissent au moins 2 fois: {result} \\nQui apparaissent une seule foiss: {unique_ids-result}\\n\")\n",
        "\n"
      ]
    },
    {
      "cell_type": "markdown",
      "metadata": {
        "id": "Z__uzl0qMohD"
      },
      "source": [
        "On voit que record_id et station_code sont des attributs catégoriels de haute cardinalité car ils ont un nombre élevé de sous attributs qui apparaissent une seule fois. <br/>Nous allons nous en départir car ils ne permettront pas de faire apprendre des patterns intéressants au modèle. <br/>Contrairemnt à eux, habitat_zone et calibration_tag ont un nombre défini de sous classe, ce qui pourrait contenir un pattern interéssant"
      ]
    },
    {
      "cell_type": "markdown",
      "metadata": {
        "id": "U2aMfWHQ_suo"
      },
      "source": [
        "Vérifions la distribution des attributs numériques"
      ]
    },
    {
      "cell_type": "code",
      "execution_count": 569,
      "metadata": {
        "colab": {
          "base_uri": "https://localhost:8080/"
        },
        "id": "1IZxeGEpLamR",
        "outputId": "499aa1d4-8831-402c-d31a-6256873f41d9"
      },
      "outputs": [
        {
          "name": "stdout",
          "output_type": "stream",
          "text": [
            "thermoreg_reading\n",
            " NaN           299\n",
            " 49.700000      34\n",
            " 50.700000      32\n",
            " 49.400000      32\n",
            " 49.800000      31\n",
            "              ... \n",
            " 76.300000       1\n",
            " 29.800000       1\n",
            " 132.118674      1\n",
            "-36.718674       1\n",
            "-40.718674       1\n",
            "Name: count, Length: 481, dtype: int64 \n",
            "\n",
            "enzyme_activity_index\n",
            "NaN           257\n",
            "101.000000     80\n",
            "97.000000      71\n",
            "117.000000     68\n",
            "90.000000      66\n",
            "             ... \n",
            "192.000000      1\n",
            "325.732016      1\n",
            "265.352287      1\n",
            "298.423934      1\n",
            "11.000000       1\n",
            "Name: count, Length: 279, dtype: int64 \n",
            "\n",
            "dual_lobe_signal\n",
            " NaN    244\n",
            " 4.9     88\n",
            " 4.1     87\n",
            " 4.0     79\n",
            " 4.4     76\n",
            "       ... \n",
            "-5.2      1\n",
            "-5.1      1\n",
            "-5.9      1\n",
            " 8.5      1\n",
            "-5.8      1\n",
            "Name: count, Length: 151, dtype: int64 \n",
            "\n",
            "stress_variability\n",
            " NaN     291\n",
            "-1.4      45\n",
            " 1.2      44\n",
            " 0.2      43\n",
            " 2.2      42\n",
            "        ... \n",
            " 12.9      1\n",
            " 11.5      1\n",
            " 11.1      1\n",
            "-14.0      1\n",
            "-12.5      1\n",
            "Name: count, Length: 281, dtype: int64 \n",
            "\n",
            "activity_score\n",
            "2.0    1181\n",
            "3.0    1181\n",
            "4.0     967\n",
            "5.0     737\n",
            "1.0     705\n",
            "NaN     229\n",
            "Name: count, dtype: int64 \n",
            "\n",
            "fasting_flag\n",
            "0.0    2840\n",
            "1.0    1924\n",
            "NaN     236\n",
            "Name: count, dtype: int64 \n",
            "\n",
            "ingest_marker\n",
            "1.0    4748\n",
            "NaN     252\n",
            "Name: count, dtype: int64 \n",
            "\n",
            "diagnostic_noise\n",
            " NaN         262\n",
            " 1.034898      1\n",
            "-0.143181      1\n",
            " 0.717559      1\n",
            "-0.310844      1\n",
            "            ... \n",
            "-0.395954      1\n",
            " 0.255881      1\n",
            " 0.235796      1\n",
            " 0.133051      1\n",
            "-0.747352      1\n",
            "Name: count, Length: 4739, dtype: int64 \n",
            "\n",
            "thermoreg_reading_fahrenheit\n",
            "NaN          949\n",
            "20.280384      1\n",
            "23.965410      1\n",
            "34.742454      1\n",
            "37.054956      1\n",
            "            ... \n",
            "25.871634      1\n",
            "43.002872      1\n",
            "30.609235      1\n",
            "28.145050      1\n",
            "33.333610      1\n",
            "Name: count, Length: 4052, dtype: int64 \n",
            "\n"
          ]
        }
      ],
      "source": [
        "for col in num_col:\n",
        "    print(df[col].value_counts(dropna=False),\"\\n\")"
      ]
    },
    {
      "cell_type": "markdown",
      "metadata": {
        "id": "ffMSo7fCHRcT"
      },
      "source": [
        "On voit ici que ingest_maker est 1 pour tout le jeu de données. C'est une caractéristique constante"
      ]
    },
    {
      "cell_type": "markdown",
      "metadata": {
        "id": "vMu8bKKlHkP7"
      },
      "source": [
        "Vérifions la correlation entre les éléments numériques\n",
        "\n"
      ]
    },
    {
      "cell_type": "code",
      "execution_count": 570,
      "metadata": {
        "colab": {
          "base_uri": "https://localhost:8080/",
          "height": 900
        },
        "id": "mn9k1-RzID9V",
        "outputId": "a1efdbc6-cc35-40b8-cb2d-b3b8898869dc"
      },
      "outputs": [
        {
          "data": {
            "image/png": "[encoded data removed]",
            "text/plain": [
              "<Figure size 1200x800 with 2 Axes>"
            ]
          },
          "metadata": {},
          "output_type": "display_data"
        }
      ],
      "source": [
        "df_num = df[num_col].drop(columns=['ingest_marker'])\n",
        "\n",
        "corr_matrix = df_num.corr(method=\"pearson\")\n",
        "\n",
        "plt.figure(figsize=(12, 8))\n",
        "sns.heatmap(corr_matrix, annot=True, cmap=\"coolwarm\", center=0, linewidths=0.5)\n",
        "plt.title(\"Matrice de corrélation des variables numériques\", fontsize=16)\n",
        "plt.show()"
      ]
    },
    {
      "cell_type": "markdown",
      "metadata": {
        "id": "_CqyN87GJT_I"
      },
      "source": [
        "Il y a une très grande correlation entre thermoreg_reading et thermoreg_reading_fahrenheit. On voit que c'est sûrement la même température mais convertie de celsius à fahrenheit donc on va en supprimer une (thermoreg_reading_fahrenheit)"
      ]
    },
    {
      "cell_type": "code",
      "execution_count": 571,
      "metadata": {
        "colab": {
          "base_uri": "https://localhost:8080/",
          "height": 258
        },
        "id": "xlSYDHCPJ3TS",
        "outputId": "3db0e6cc-66c6-404e-98d6-d47b77106cfe"
      },
      "outputs": [
        {
          "name": "stdout",
          "output_type": "stream",
          "text": [
            "Liste des attributs à supprimer: ['record_id', 'station_code', 'ingest_marker', 'thermoreg_reading_fahrenheit']\n",
            "\n",
            "\n"
          ]
        },
        {
          "data": {
            "text/html": [
              "<div>\n",
              "<style scoped>\n",
              "    .dataframe tbody tr th:only-of-type {\n",
              "        vertical-align: middle;\n",
              "    }\n",
              "\n",
              "    .dataframe tbody tr th {\n",
              "        vertical-align: top;\n",
              "    }\n",
              "\n",
              "    .dataframe thead th {\n",
              "        text-align: right;\n",
              "    }\n",
              "</style>\n",
              "<table border=\"1\" class=\"dataframe\">\n",
              "  <thead>\n",
              "    <tr style=\"text-align: right;\">\n",
              "      <th></th>\n",
              "      <th>thermoreg_reading</th>\n",
              "      <th>enzyme_activity_index</th>\n",
              "      <th>dual_lobe_signal</th>\n",
              "      <th>stress_variability</th>\n",
              "      <th>habitat_zone</th>\n",
              "      <th>activity_score</th>\n",
              "      <th>fasting_flag</th>\n",
              "      <th>calibration_tag</th>\n",
              "      <th>diagnostic_noise</th>\n",
              "    </tr>\n",
              "  </thead>\n",
              "  <tbody>\n",
              "    <tr>\n",
              "      <th>0</th>\n",
              "      <td>52.6</td>\n",
              "      <td>97.0</td>\n",
              "      <td>3.6</td>\n",
              "      <td>-3.5</td>\n",
              "      <td>C2</td>\n",
              "      <td>2.0</td>\n",
              "      <td>0.0</td>\n",
              "      <td>A</td>\n",
              "      <td>0.482088</td>\n",
              "    </tr>\n",
              "    <tr>\n",
              "      <th>1</th>\n",
              "      <td>41.8</td>\n",
              "      <td>105.0</td>\n",
              "      <td>3.4</td>\n",
              "      <td>10.5</td>\n",
              "      <td>C1</td>\n",
              "      <td>2.0</td>\n",
              "      <td>0.0</td>\n",
              "      <td>A</td>\n",
              "      <td>NaN</td>\n",
              "    </tr>\n",
              "    <tr>\n",
              "      <th>2</th>\n",
              "      <td>56.2</td>\n",
              "      <td>126.0</td>\n",
              "      <td>5.5</td>\n",
              "      <td>9.6</td>\n",
              "      <td>C2</td>\n",
              "      <td>5.0</td>\n",
              "      <td>0.0</td>\n",
              "      <td>A</td>\n",
              "      <td>-0.747352</td>\n",
              "    </tr>\n",
              "    <tr>\n",
              "      <th>3</th>\n",
              "      <td>57.7</td>\n",
              "      <td>106.0</td>\n",
              "      <td>-4.1</td>\n",
              "      <td>-4.0</td>\n",
              "      <td>C1</td>\n",
              "      <td>4.0</td>\n",
              "      <td>0.0</td>\n",
              "      <td>A</td>\n",
              "      <td>0.570478</td>\n",
              "    </tr>\n",
              "    <tr>\n",
              "      <th>4</th>\n",
              "      <td>34.5</td>\n",
              "      <td>73.0</td>\n",
              "      <td>2.3</td>\n",
              "      <td>0.3</td>\n",
              "      <td>C4</td>\n",
              "      <td>5.0</td>\n",
              "      <td>1.0</td>\n",
              "      <td>A</td>\n",
              "      <td>-0.310844</td>\n",
              "    </tr>\n",
              "  </tbody>\n",
              "</table>\n",
              "</div>"
            ],
            "text/plain": [
              "   thermoreg_reading  enzyme_activity_index  dual_lobe_signal  \\\n",
              "0               52.6                   97.0               3.6   \n",
              "1               41.8                  105.0               3.4   \n",
              "2               56.2                  126.0               5.5   \n",
              "3               57.7                  106.0              -4.1   \n",
              "4               34.5                   73.0               2.3   \n",
              "\n",
              "   stress_variability habitat_zone  activity_score  fasting_flag  \\\n",
              "0                -3.5           C2             2.0           0.0   \n",
              "1                10.5           C1             2.0           0.0   \n",
              "2                 9.6           C2             5.0           0.0   \n",
              "3                -4.0           C1             4.0           0.0   \n",
              "4                 0.3           C4             5.0           1.0   \n",
              "\n",
              "  calibration_tag  diagnostic_noise  \n",
              "0               A          0.482088  \n",
              "1               A               NaN  \n",
              "2               A         -0.747352  \n",
              "3               A          0.570478  \n",
              "4               A         -0.310844  "
            ]
          },
          "execution_count": 571,
          "metadata": {},
          "output_type": "execute_result"
        }
      ],
      "source": [
        "to_drop = ['record_id','station_code','ingest_marker','thermoreg_reading_fahrenheit']\n",
        "cat_col.remove('record_id')\n",
        "cat_col.remove('station_code')\n",
        "num_col.remove('ingest_marker')\n",
        "num_col.remove('thermoreg_reading_fahrenheit')\n",
        "\n",
        "print(f\"Liste des attributs à supprimer: {to_drop}\\n\\n\")\n",
        "df.drop(columns=to_drop, inplace=True)\n",
        "df.head()\n"
      ]
    },
    {
      "cell_type": "markdown",
      "metadata": {
        "id": "_N-uInhKeAyP"
      },
      "source": [
        "5. **Caractériser les distributions**\n",
        "\n",
        "- Pour chaque attribut numérique, fournir une caractérisation détaillée de la distribution de ses valeurs.\n",
        "- Évaluer si la distribution présente une normalité ou une asymétrie.\n",
        "- Déterminer si elle est unimodale ou multimodale.\n",
        "- Identifier la présence de tout outlier.\n",
        "- Justifier vos réponses.\n",
        "- Créer des histogrammes pour soutenir visuellement vos conclusions."
      ]
    },
    {
      "cell_type": "code",
      "execution_count": 572,
      "metadata": {
        "colab": {
          "base_uri": "https://localhost:8080/",
          "height": 206
        },
        "id": "dVXMduxNaUmQ",
        "outputId": "35bff603-9933-4c67-ebfa-0e6ff899e788"
      },
      "outputs": [
        {
          "data": {
            "text/html": [
              "<div>\n",
              "<style scoped>\n",
              "    .dataframe tbody tr th:only-of-type {\n",
              "        vertical-align: middle;\n",
              "    }\n",
              "\n",
              "    .dataframe tbody tr th {\n",
              "        vertical-align: top;\n",
              "    }\n",
              "\n",
              "    .dataframe thead th {\n",
              "        text-align: right;\n",
              "    }\n",
              "</style>\n",
              "<table border=\"1\" class=\"dataframe\">\n",
              "  <thead>\n",
              "    <tr style=\"text-align: right;\">\n",
              "      <th></th>\n",
              "      <th>thermoreg_reading</th>\n",
              "      <th>enzyme_activity_index</th>\n",
              "      <th>dual_lobe_signal</th>\n",
              "      <th>stress_variability</th>\n",
              "      <th>activity_score</th>\n",
              "      <th>fasting_flag</th>\n",
              "      <th>diagnostic_noise</th>\n",
              "    </tr>\n",
              "  </thead>\n",
              "  <tbody>\n",
              "    <tr>\n",
              "      <th>0</th>\n",
              "      <td>52.6</td>\n",
              "      <td>97.0</td>\n",
              "      <td>3.6</td>\n",
              "      <td>-3.5</td>\n",
              "      <td>2.0</td>\n",
              "      <td>0.0</td>\n",
              "      <td>0.482088</td>\n",
              "    </tr>\n",
              "    <tr>\n",
              "      <th>1</th>\n",
              "      <td>41.8</td>\n",
              "      <td>105.0</td>\n",
              "      <td>3.4</td>\n",
              "      <td>10.5</td>\n",
              "      <td>2.0</td>\n",
              "      <td>0.0</td>\n",
              "      <td>NaN</td>\n",
              "    </tr>\n",
              "    <tr>\n",
              "      <th>2</th>\n",
              "      <td>56.2</td>\n",
              "      <td>126.0</td>\n",
              "      <td>5.5</td>\n",
              "      <td>9.6</td>\n",
              "      <td>5.0</td>\n",
              "      <td>0.0</td>\n",
              "      <td>-0.747352</td>\n",
              "    </tr>\n",
              "    <tr>\n",
              "      <th>3</th>\n",
              "      <td>57.7</td>\n",
              "      <td>106.0</td>\n",
              "      <td>-4.1</td>\n",
              "      <td>-4.0</td>\n",
              "      <td>4.0</td>\n",
              "      <td>0.0</td>\n",
              "      <td>0.570478</td>\n",
              "    </tr>\n",
              "    <tr>\n",
              "      <th>4</th>\n",
              "      <td>34.5</td>\n",
              "      <td>73.0</td>\n",
              "      <td>2.3</td>\n",
              "      <td>0.3</td>\n",
              "      <td>5.0</td>\n",
              "      <td>1.0</td>\n",
              "      <td>-0.310844</td>\n",
              "    </tr>\n",
              "  </tbody>\n",
              "</table>\n",
              "</div>"
            ],
            "text/plain": [
              "   thermoreg_reading  enzyme_activity_index  dual_lobe_signal  \\\n",
              "0               52.6                   97.0               3.6   \n",
              "1               41.8                  105.0               3.4   \n",
              "2               56.2                  126.0               5.5   \n",
              "3               57.7                  106.0              -4.1   \n",
              "4               34.5                   73.0               2.3   \n",
              "\n",
              "   stress_variability  activity_score  fasting_flag  diagnostic_noise  \n",
              "0                -3.5             2.0           0.0          0.482088  \n",
              "1                10.5             2.0           0.0               NaN  \n",
              "2                 9.6             5.0           0.0         -0.747352  \n",
              "3                -4.0             4.0           0.0          0.570478  \n",
              "4                 0.3             5.0           1.0         -0.310844  "
            ]
          },
          "execution_count": 572,
          "metadata": {},
          "output_type": "execute_result"
        }
      ],
      "source": [
        "# Cellule de code\n",
        "df_num = df[num_col]\n",
        "df_num.head()"
      ]
    },
    {
      "cell_type": "code",
      "execution_count": 573,
      "metadata": {
        "colab": {
          "base_uri": "https://localhost:8080/"
        },
        "id": "9luktKp4abZH",
        "outputId": "2a49618e-918c-4753-fa2f-cf5df0a6a5ac"
      },
      "outputs": [
        {
          "name": "stdout",
          "output_type": "stream",
          "text": [
            "------------------------thermoreg_reading------------------------\n",
            "\n",
            "La moyenne est 49.48133671069154\n",
            "La médiane est 49.900000000000006\n",
            "La variance est 135.18174679774805\n",
            "La écart type est 11.6267685449461\n",
            "La valeur minimale est -79.31867350217316\n",
            "La valeur maximale est 138.81867350217317\n",
            "\n",
            "\n",
            "\n",
            "------------------------enzyme_activity_index------------------------\n",
            "\n",
            "La moyenne est 103.43628438105499\n",
            "La médiane est 101.0\n",
            "La variance est 1506.4242844600667\n",
            "La écart type est 38.812682005500044\n",
            "La valeur minimale est 0.0\n",
            "La valeur maximale est 349.9939676063846\n",
            "\n",
            "\n",
            "\n",
            "------------------------dual_lobe_signal------------------------\n",
            "\n",
            "La moyenne est 2.007716568544996\n",
            "La médiane est 2.5\n",
            "La variance est 8.991210683897878\n",
            "La écart type est 2.9985347561597275\n",
            "La valeur minimale est -6.5\n",
            "La valeur maximale est 8.9\n",
            "\n",
            "\n",
            "\n",
            "------------------------stress_variability------------------------\n",
            "\n",
            "La moyenne est 0.015778296878318124\n",
            "La médiane est 0.0\n",
            "La variance est 24.852663057039496\n",
            "La écart type est 4.985244533324268\n",
            "La valeur minimale est -18.0\n",
            "La valeur maximale est 18.7\n",
            "\n",
            "\n",
            "\n",
            "------------------------activity_score------------------------\n",
            "\n",
            "La moyenne est 2.9685600503039193\n",
            "La médiane est 3.0\n",
            "La variance est 1.6585501064036872\n",
            "La écart type est 1.2878470819176038\n",
            "La valeur minimale est 1.0\n",
            "La valeur maximale est 5.0\n",
            "\n",
            "\n",
            "\n",
            "------------------------fasting_flag------------------------\n",
            "\n",
            "La moyenne est 0.4038623005877414\n",
            "La médiane est 0.0\n",
            "La variance est 0.2408080902097807\n",
            "La écart type est 0.4907220090945389\n",
            "La valeur minimale est 0.0\n",
            "La valeur maximale est 1.0\n",
            "\n",
            "\n",
            "\n",
            "------------------------diagnostic_noise------------------------\n",
            "\n",
            "La moyenne est -0.00618936745641373\n",
            "La médiane est 0.009741261269987301\n",
            "La variance est 0.9718863687214613\n",
            "La écart type est 0.9858429736633828\n",
            "La valeur minimale est -3.628616780091652\n",
            "La valeur maximale est 3.599592526943647\n",
            "\n",
            "\n",
            "\n"
          ]
        }
      ],
      "source": [
        "df_num.describe()\n",
        "\n",
        "for elem in df_num.describe():\n",
        "\n",
        "  print(f\"------------------------{elem}------------------------\\n\")\n",
        "  print(f\"La moyenne est {df_num[elem].mean()}\")\n",
        "  print(f\"La médiane est {df_num[elem].median()}\")\n",
        "  print(f\"La variance est {df_num[elem].var()}\")\n",
        "  print(f\"La écart type est {df_num[elem].std()}\")\n",
        "  print(f\"La valeur minimale est {df_num[elem].min()}\")\n",
        "  print(f\"La valeur maximale est {df_num[elem].max()}\\n\\n\\n\")"
      ]
    },
    {
      "cell_type": "code",
      "execution_count": 574,
      "metadata": {
        "colab": {
          "base_uri": "https://localhost:8080/",
          "height": 1000
        },
        "id": "0vx8P7oiAnyv",
        "outputId": "6f228e35-c195-4dc8-c652-f1ab51aab677"
      },
      "outputs": [
        {
          "name": "stdout",
          "output_type": "stream",
          "text": [
            "Examinons la distribution de chque attribut numérique à l'aide d'histogrammes\n",
            "\n",
            "\n",
            "\n",
            "\n"
          ]
        },
        {
          "data": {
            "image/png": "[encoded data removed]",
            "text/plain": [
              "<Figure size 1200x600 with 1 Axes>"
            ]
          },
          "metadata": {},
          "output_type": "display_data"
        },
        {
          "data": {
            "image/png": "[encoded data removed]",
            "text/plain": [
              "<Figure size 1200x600 with 1 Axes>"
            ]
          },
          "metadata": {},
          "output_type": "display_data"
        },
        {
          "data": {
            "image/png": "[encoded data removed]",
            "text/plain": [
              "<Figure size 1200x600 with 1 Axes>"
            ]
          },
          "metadata": {},
          "output_type": "display_data"
        },
        {
          "data": {
            "image/png": "[encoded data removed]",
            "text/plain": [
              "<Figure size 1200x600 with 1 Axes>"
            ]
          },
          "metadata": {},
          "output_type": "display_data"
        },
        {
          "data": {
            "image/png": "[encoded data removed]",
            "text/plain": [
              "<Figure size 1200x600 with 1 Axes>"
            ]
          },
          "metadata": {},
          "output_type": "display_data"
        },
        {
          "data": {
            "image/png": "[encoded data removed]",
            "text/plain": [
              "<Figure size 1200x600 with 1 Axes>"
            ]
          },
          "metadata": {},
          "output_type": "display_data"
        },
        {
          "data": {
            "image/png": "[encoded data removed]",
            "text/plain": [
              "<Figure size 1200x600 with 1 Axes>"
            ]
          },
          "metadata": {},
          "output_type": "display_data"
        }
      ],
      "source": [
        "print(\"Examinons la distribution de chque attribut numérique à l'aide d'histogrammes\\n\\n\\n\\n\")\n",
        "for col in num_col:\n",
        "    plt.figure(figsize=(12, 6))\n",
        "    df[col].dropna().plot(kind='hist', bins=30, color='pink', edgecolor='skyblue')\n",
        "    plt.title(col, fontsize=16)\n",
        "    plt.xlabel(col, fontsize=14)\n",
        "    plt.ylabel('Fréquence', fontsize=14)\n",
        "    plt.show()\n"
      ]
    },
    {
      "cell_type": "markdown",
      "metadata": {},
      "source": [
        "### Observation\n",
        "En se basant visuellement sur les graphiques obtenus, voici ce que nous remarquons: \n",
        "- thermoreg_reading : distribution quasi normale, unimodale, asymétrique (skewed à droite).\n",
        "\n",
        "- enzyme_activity_index : distribution quasi normale, unimodale, asymétrique (skewed à gauche).\n",
        "\n",
        "- dual_lobe_signal : distribution bimodale (présence de deux pics distincts), symétrique.\n",
        "\n",
        "- stress_variability : distribution normale, unimodale, relativement symétrique.\n",
        "\n",
        "- activity_score : distribution discrète multimodale \n",
        "\n",
        "- fasting_flag :  distribution de Bernoulli\n",
        "\n",
        "- diagnostic_noise : distribution normale, unimodale."
      ]
    },
    {
      "cell_type": "markdown",
      "metadata": {},
      "source": [
        "### Outliers \n",
        "Nous allons utliser IQR pour calculer et afficher les outliers et des boxplots pour vérifier nos résultats visuellement"
      ]
    },
    {
      "cell_type": "code",
      "execution_count": 575,
      "metadata": {},
      "outputs": [
        {
          "name": "stdout",
          "output_type": "stream",
          "text": [
            "------------------------thermoreg_reading------------------------\n",
            "\n",
            "Q1 = 44.400000000000006\n",
            "Q3 = 54.900000000000006\n",
            "IQR = 10.5\n",
            "Borne inférieure = 28.650000000000006\n",
            "Borne supérieure = 70.65\n",
            "Outliers détectés :\n",
            "96\n"
          ]
        },
        {
          "data": {
            "image/png": "[encoded data removed]",
            "text/plain": [
              "<Figure size 640x480 with 1 Axes>"
            ]
          },
          "metadata": {},
          "output_type": "display_data"
        },
        {
          "name": "stdout",
          "output_type": "stream",
          "text": [
            "------------------------enzyme_activity_index------------------------\n",
            "\n",
            "Q1 = 80.0\n",
            "Q3 = 121.0\n",
            "IQR = 41.0\n",
            "Borne inférieure = 18.5\n",
            "Borne supérieure = 182.5\n",
            "Outliers détectés :\n",
            "119\n"
          ]
        },
        {
          "data": {
            "image/png": "[encoded data removed]",
            "text/plain": [
              "<Figure size 640x480 with 1 Axes>"
            ]
          },
          "metadata": {},
          "output_type": "display_data"
        },
        {
          "name": "stdout",
          "output_type": "stream",
          "text": [
            "------------------------dual_lobe_signal------------------------\n",
            "\n",
            "Q1 = -0.4\n",
            "Q3 = 4.5\n",
            "IQR = 4.9\n",
            "Borne inférieure = -7.750000000000001\n",
            "Borne supérieure = 11.850000000000001\n",
            "Outliers détectés :\n",
            "Aucun outlier\n"
          ]
        },
        {
          "data": {
            "image/png": "[encoded data removed]",
            "text/plain": [
              "<Figure size 640x480 with 1 Axes>"
            ]
          },
          "metadata": {},
          "output_type": "display_data"
        },
        {
          "name": "stdout",
          "output_type": "stream",
          "text": [
            "------------------------stress_variability------------------------\n",
            "\n",
            "Q1 = -3.3000000000000003\n",
            "Q3 = 3.5\n",
            "IQR = 6.800000000000001\n",
            "Borne inférieure = -13.500000000000002\n",
            "Borne supérieure = 13.700000000000001\n",
            "Outliers détectés :\n",
            "25\n"
          ]
        },
        {
          "data": {
            "image/png": "[encoded data removed]",
            "text/plain": [
              "<Figure size 640x480 with 1 Axes>"
            ]
          },
          "metadata": {},
          "output_type": "display_data"
        },
        {
          "name": "stdout",
          "output_type": "stream",
          "text": [
            "------------------------activity_score------------------------\n",
            "\n",
            "Q1 = 2.0\n",
            "Q3 = 4.0\n",
            "IQR = 2.0\n",
            "Borne inférieure = -1.0\n",
            "Borne supérieure = 7.0\n",
            "Outliers détectés :\n",
            "Aucun outlier\n"
          ]
        },
        {
          "data": {
            "image/png": "[encoded data removed]",
            "text/plain": [
              "<Figure size 640x480 with 1 Axes>"
            ]
          },
          "metadata": {},
          "output_type": "display_data"
        },
        {
          "name": "stdout",
          "output_type": "stream",
          "text": [
            "------------------------fasting_flag------------------------\n",
            "\n",
            "Q1 = 0.0\n",
            "Q3 = 1.0\n",
            "IQR = 1.0\n",
            "Borne inférieure = -1.5\n",
            "Borne supérieure = 2.5\n",
            "Outliers détectés :\n",
            "Aucun outlier\n"
          ]
        },
        {
          "data": {
            "image/png": "[encoded data removed]",
            "text/plain": [
              "<Figure size 640x480 with 1 Axes>"
            ]
          },
          "metadata": {},
          "output_type": "display_data"
        },
        {
          "name": "stdout",
          "output_type": "stream",
          "text": [
            "------------------------diagnostic_noise------------------------\n",
            "\n",
            "Q1 = -0.6595949425277076\n",
            "Q3 = 0.627104339675745\n",
            "IQR = 1.2866992822034526\n",
            "Borne inférieure = -2.5896438658328864\n",
            "Borne supérieure = 2.5571532629809237\n",
            "Outliers détectés :\n",
            "50\n"
          ]
        },
        {
          "data": {
            "image/png": "[encoded data removed]",
            "text/plain": [
              "<Figure size 640x480 with 1 Axes>"
            ]
          },
          "metadata": {},
          "output_type": "display_data"
        }
      ],
      "source": [
        "for elem in num_col:\n",
        "    print(f\"------------------------{elem}------------------------\\n\")\n",
        "    # 1. Calculer Q1, Q3 et IQR\n",
        "    Q1 = df[elem].quantile(0.25)\n",
        "    Q3 = df[elem].quantile(0.75)\n",
        "    IQR = Q3 - Q1\n",
        "\n",
        "    # 2. Définir bornes pour détecter outliers\n",
        "    borne_inf = Q1 - 1.5 * IQR\n",
        "    borne_sup = Q3 + 1.5 * IQR\n",
        "\n",
        "    # 3. Détecter les outliers\n",
        "    outliers = df[(df[elem] < borne_inf) | (df[elem] > borne_sup)]\n",
        "\n",
        "    print(\"Q1 =\", Q1)\n",
        "    print(\"Q3 =\", Q3)\n",
        "    print(\"IQR =\", IQR)\n",
        "    print(\"Borne inférieure =\", borne_inf)\n",
        "    print(\"Borne supérieure =\", borne_sup)\n",
        "    print(\"Outliers détectés :\")\n",
        "    print(len(outliers) if not outliers.empty else \"Aucun outlier\")\n",
        "\n",
        "    # 4. Visualisation Boxplot\n",
        "    sns.boxplot(x=df[elem], color='lightblue')\n",
        "    plt.title(f\"Boxplot de {elem} avec outliers\")\n",
        "    plt.show()"
      ]
    },
    {
      "cell_type": "markdown",
      "metadata": {
        "id": "qsKi-c-YeAyR"
      },
      "source": [
        "6. **Équilibre des classes**\n",
        "\n",
        "- Rapporter les proportions cibles ; inclure un simple diagramme à barres."
      ]
    },
    {
      "cell_type": "code",
      "execution_count": 576,
      "metadata": {},
      "outputs": [
        {
          "name": "stdout",
          "output_type": "stream",
          "text": [
            "------------------------habitat_zone------------------------\n",
            "\n",
            "Pourcentage de chaque classe\n",
            "\n",
            "habitat_zone\n",
            "C1    34.682690\n",
            "C2    25.089606\n",
            "C3    20.535526\n",
            "C4    11.574953\n",
            "C5     8.117225\n",
            "Name: count, dtype: float64\n",
            "\n",
            "\n",
            "\n",
            "------------------------calibration_tag------------------------\n",
            "\n",
            "Pourcentage de chaque classe\n",
            "\n",
            "calibration_tag\n",
            "A    97.901364\n",
            "B     2.098636\n",
            "Name: count, dtype: float64\n",
            "\n",
            "\n",
            "\n"
          ]
        }
      ],
      "source": [
        "for elem in cat_col:\n",
        "    print(f\"------------------------{elem}------------------------\\n\")\n",
        "    values = df[elem].value_counts()\n",
        "    print('Pourcentage de chaque classe\\n')\n",
        "    print(values / values.sum() * 100)\n",
        "    print(\"\\n\\n\")"
      ]
    },
    {
      "cell_type": "code",
      "execution_count": 577,
      "metadata": {
        "id": "mFPwuBoneAyR"
      },
      "outputs": [
        {
          "name": "stdout",
          "output_type": "stream",
          "text": [
            "------------------------habitat_zone------------------------\n",
            "\n"
          ]
        },
        {
          "data": {
            "image/png": "[encoded data removed]",
            "text/plain": [
              "<Figure size 1000x600 with 1 Axes>"
            ]
          },
          "metadata": {},
          "output_type": "display_data"
        },
        {
          "name": "stdout",
          "output_type": "stream",
          "text": [
            "------------------------calibration_tag------------------------\n",
            "\n"
          ]
        },
        {
          "data": {
            "image/png": "[encoded data removed]",
            "text/plain": [
              "<Figure size 1000x600 with 1 Axes>"
            ]
          },
          "metadata": {},
          "output_type": "display_data"
        }
      ],
      "source": [
        "# Cellule de code\n",
        "for elem in cat_col:\n",
        "    print(f\"------------------------{elem}------------------------\\n\")\n",
        "    values = df[elem].value_counts()\n",
        "    figure = plt.figure(figsize=(10, 6))\n",
        "    sns.barplot(x=values.index, y=values.values)\n",
        "    plt.title(f\"Distribution de {elem}\")\n",
        "    plt.xticks(rotation=45)\n",
        "    plt.show()\n"
      ]
    },
    {
      "cell_type": "code",
      "execution_count": null,
      "metadata": {},
      "outputs": [],
      "source": []
    },
    {
      "cell_type": "markdown",
      "metadata": {},
      "source": [
        "- habita_zone: On remque une distribution croissante des classes avec les classes les plus représentét respectivement C1, C2, C3, C4 et C5\n",
        "- calibration_tag est très fortement débalancé avec la classe A qui écrase litéralement la classe B."
      ]
    },
    {
      "cell_type": "markdown",
      "metadata": {
        "id": "hcUOCmBYeAyR"
      },
      "source": [
        "7. **Sauvegarder les données nettoyées**\n",
        "\n",
        "- Conserver les attributs principaux plus `health_outcome`.\n",
        "- Assurer les types de données corrects (numérique/ordinal/binaire).\n",
        "- Sauvegarder sous `alien_pet_health_cleaned.csv`."
      ]
    },
    {
      "cell_type": "code",
      "execution_count": 578,
      "metadata": {
        "colab": {
          "base_uri": "https://localhost:8080/",
          "height": 339
        },
        "id": "8VwyEH0oeAyS",
        "outputId": "fb097cc6-6bc8-47a4-f3d2-092ff59c9e35"
      },
      "outputs": [],
      "source": [
        "# Cellule de code\n",
        "df['health_outcome'] = y\n",
        "\n",
        "df.to_csv('alien_pet_health_cleaned.csv', index=False)"
      ]
    },
    {
      "cell_type": "markdown",
      "metadata": {
        "id": "Xyprr8l5eAyS"
      },
      "source": [
        "# Références\n",
        "\n",
        "# Ressources\n",
        "\n",
        "Si vous utilisez l'assistance par IA, il est essentiel de documenter minutieusement toutes les interactions. Votre rapport doit spécifier les outils et leurs versions, accompagnés d'une transcription complète de ces interactions. La plupart des plateformes d'IA enregistrent automatiquement les conversations, il est donc conseillé de démarrer une nouvelle conversation spécifiquement pour le devoir et d'utiliser systématiquement ce fil tout au long de votre travail. Assurez-vous que cette conversation reste exclusivement centrée sur le devoir. Incluez la transcription de cette conversation."
      ]
    }
  ],
  "metadata": {
    "colab": {
      "provenance": []
    },
    "kernelspec": {
      "display_name": "Python 3",
      "language": "python",
      "name": "python3"
    },
    "language_info": {
      "codemirror_mode": {
        "name": "ipython",
        "version": 3
      },
      "file_extension": ".py",
      "mimetype": "text/x-python",
      "name": "python",
      "nbconvert_exporter": "python",
      "pygments_lexer": "ipython3",
      "version": "3.13.7"
    }
  },
  "nbformat": 4,
  "nbformat_minor": 0
}
